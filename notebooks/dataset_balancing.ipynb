{
 "cells": [
  {
   "cell_type": "code",
   "id": "initial_id",
   "metadata": {
    "collapsed": true,
    "ExecuteTime": {
     "end_time": "2025-04-27T11:51:39.764363Z",
     "start_time": "2025-04-27T11:51:39.552584Z"
    }
   },
   "source": [
    "%load_ext autoreload\n",
    "%autoreload 2\n",
    "\n",
    "import numpy as np\n",
    "import os\n",
    "import cv2\n",
    "import pandas as pd\n",
    "from torch.utils.data import Dataset\n",
    "from torchvision.transforms import v2 as transforms\n",
    "from src.utils.loaders import load_image_dataset, load_images\n",
    "from sklearn.utils import resample\n",
    "from PIL import Image\n",
    "from src.dataset import *"
   ],
   "outputs": [
    {
     "name": "stdout",
     "output_type": "stream",
     "text": [
      "The autoreload extension is already loaded. To reload it, use:\n",
      "  %reload_ext autoreload\n"
     ]
    }
   ],
   "execution_count": 2
  },
  {
   "metadata": {
    "ExecuteTime": {
     "end_time": "2025-04-27T11:51:40.053415Z",
     "start_time": "2025-04-27T11:51:39.767531Z"
    }
   },
   "cell_type": "code",
   "source": [
    "df = pd.read_feather(\"../processed_data/train_df.feather\")\n",
    "print(df[\"GROUP\"].unique())\n",
    "df[\"GROUP\"].value_counts()"
   ],
   "id": "bbf51078cbc87681",
   "outputs": [
    {
     "name": "stdout",
     "output_type": "stream",
     "text": [
      "[4 6 1 3 5 0 2 7 8 9]\n"
     ]
    },
    {
     "data": {
      "text/plain": [
       "GROUP\n",
       "4    11955\n",
       "3     8897\n",
       "5     6455\n",
       "1     4034\n",
       "2      604\n",
       "6      546\n",
       "0      538\n",
       "7       87\n",
       "8        9\n",
       "9        1\n",
       "Name: count, dtype: int64"
      ]
     },
     "execution_count": 3,
     "metadata": {},
     "output_type": "execute_result"
    }
   ],
   "execution_count": 3
  },
  {
   "metadata": {
    "ExecuteTime": {
     "end_time": "2025-04-27T11:51:40.283282Z",
     "start_time": "2025-04-27T11:51:40.055420Z"
    }
   },
   "cell_type": "code",
   "source": [
    "df = merge_groups(df)\n",
    "df[\"GROUP\"].unique()\n",
    "df[\"GROUP\"].value_counts()"
   ],
   "id": "ad3685ae0c061bf1",
   "outputs": [
    {
     "data": {
      "text/plain": [
       "GROUP\n",
       "4    11955\n",
       "3     8897\n",
       "5     6455\n",
       "2     4638\n",
       "6      643\n",
       "1      538\n",
       "Name: count, dtype: int64"
      ]
     },
     "execution_count": 4,
     "metadata": {},
     "output_type": "execute_result"
    }
   ],
   "execution_count": 4
  },
  {
   "metadata": {
    "ExecuteTime": {
     "end_time": "2025-04-27T11:51:40.467758Z",
     "start_time": "2025-04-27T11:51:40.286280Z"
    }
   },
   "cell_type": "code",
   "source": "df[\"TARGET\"].value_counts()",
   "id": "6a66f995a9b88b72",
   "outputs": [
    {
     "data": {
      "text/plain": [
       "TARGET\n",
       "0    32542\n",
       "1      584\n",
       "Name: count, dtype: int64"
      ]
     },
     "execution_count": 5,
     "metadata": {},
     "output_type": "execute_result"
    }
   ],
   "execution_count": 5
  },
  {
   "metadata": {
    "ExecuteTime": {
     "end_time": "2025-04-27T11:51:40.683789Z",
     "start_time": "2025-04-27T11:51:40.468763Z"
    }
   },
   "cell_type": "code",
   "source": [
    "grouped_train_df = df.assign(COUNT=1).groupby([\"GROUP\", \"TARGET\"], as_index=False)[\"COUNT\"].sum().sort_values([\"GROUP\", \"TARGET\"])\n",
    "grouped_train_df = grouped_train_df.pivot(index=\"GROUP\", columns=\"TARGET\", values=\"COUNT\").reset_index().fillna(0)\n",
    "grouped_train_df.columns = [\"GROUP\", \"NEGATIVE\", \"POSITIVE\"]\n",
    "grouped_train_df['RATIO'] = grouped_train_df['POSITIVE'] / (grouped_train_df['POSITIVE'] + grouped_train_df['NEGATIVE'])\n",
    "grouped_train_df"
   ],
   "id": "f5429b05567f8e0c",
   "outputs": [
    {
     "data": {
      "text/plain": [
       "   GROUP  NEGATIVE  POSITIVE     RATIO\n",
       "0      1       529         9  0.016729\n",
       "1      2      4612        26  0.005606\n",
       "2      3      8858        39  0.004384\n",
       "3      4     11658       297  0.024843\n",
       "4      5      6268       187  0.028970\n",
       "5      6       617        26  0.040435"
      ],
      "text/html": [
       "<div>\n",
       "<style scoped>\n",
       "    .dataframe tbody tr th:only-of-type {\n",
       "        vertical-align: middle;\n",
       "    }\n",
       "\n",
       "    .dataframe tbody tr th {\n",
       "        vertical-align: top;\n",
       "    }\n",
       "\n",
       "    .dataframe thead th {\n",
       "        text-align: right;\n",
       "    }\n",
       "</style>\n",
       "<table border=\"1\" class=\"dataframe\">\n",
       "  <thead>\n",
       "    <tr style=\"text-align: right;\">\n",
       "      <th></th>\n",
       "      <th>GROUP</th>\n",
       "      <th>NEGATIVE</th>\n",
       "      <th>POSITIVE</th>\n",
       "      <th>RATIO</th>\n",
       "    </tr>\n",
       "  </thead>\n",
       "  <tbody>\n",
       "    <tr>\n",
       "      <th>0</th>\n",
       "      <td>1</td>\n",
       "      <td>529</td>\n",
       "      <td>9</td>\n",
       "      <td>0.016729</td>\n",
       "    </tr>\n",
       "    <tr>\n",
       "      <th>1</th>\n",
       "      <td>2</td>\n",
       "      <td>4612</td>\n",
       "      <td>26</td>\n",
       "      <td>0.005606</td>\n",
       "    </tr>\n",
       "    <tr>\n",
       "      <th>2</th>\n",
       "      <td>3</td>\n",
       "      <td>8858</td>\n",
       "      <td>39</td>\n",
       "      <td>0.004384</td>\n",
       "    </tr>\n",
       "    <tr>\n",
       "      <th>3</th>\n",
       "      <td>4</td>\n",
       "      <td>11658</td>\n",
       "      <td>297</td>\n",
       "      <td>0.024843</td>\n",
       "    </tr>\n",
       "    <tr>\n",
       "      <th>4</th>\n",
       "      <td>5</td>\n",
       "      <td>6268</td>\n",
       "      <td>187</td>\n",
       "      <td>0.028970</td>\n",
       "    </tr>\n",
       "    <tr>\n",
       "      <th>5</th>\n",
       "      <td>6</td>\n",
       "      <td>617</td>\n",
       "      <td>26</td>\n",
       "      <td>0.040435</td>\n",
       "    </tr>\n",
       "  </tbody>\n",
       "</table>\n",
       "</div>"
      ]
     },
     "execution_count": 6,
     "metadata": {},
     "output_type": "execute_result"
    }
   ],
   "execution_count": 6
  },
  {
   "metadata": {
    "ExecuteTime": {
     "end_time": "2025-04-27T11:51:40.928515Z",
     "start_time": "2025-04-27T11:51:40.685789Z"
    }
   },
   "cell_type": "code",
   "source": [
    "df = balance_by_target_per_group(df)\n",
    "df[\"TARGET\"].value_counts()"
   ],
   "id": "5c18c8d8316ee64a",
   "outputs": [
    {
     "data": {
      "text/plain": [
       "TARGET\n",
       "0    32542\n",
       "1     6424\n",
       "Name: count, dtype: int64"
      ]
     },
     "execution_count": 7,
     "metadata": {},
     "output_type": "execute_result"
    }
   ],
   "execution_count": 7
  },
  {
   "metadata": {
    "ExecuteTime": {
     "end_time": "2025-04-27T11:51:41.143741Z",
     "start_time": "2025-04-27T11:51:40.930517Z"
    }
   },
   "cell_type": "code",
   "source": [
    "grouped_train_df = df.assign(COUNT=1).groupby([\"GROUP\", \"TARGET\"], as_index=False)[\"COUNT\"].sum().sort_values([\"GROUP\", \"TARGET\"])\n",
    "grouped_train_df = grouped_train_df.pivot(index=\"GROUP\", columns=\"TARGET\", values=\"COUNT\").reset_index().fillna(0)\n",
    "grouped_train_df.columns = [\"GROUP\", \"NEGATIVE\", \"POSITIVE\"]\n",
    "grouped_train_df['RATIO'] = grouped_train_df['POSITIVE'] / (grouped_train_df['POSITIVE'] + grouped_train_df['NEGATIVE'])\n",
    "grouped_train_df"
   ],
   "id": "281ceec226c2de83",
   "outputs": [
    {
     "data": {
      "text/plain": [
       "   GROUP  NEGATIVE  POSITIVE     RATIO\n",
       "0      1       529        99  0.157643\n",
       "1      2      4612       286  0.058391\n",
       "2      3      8858       429  0.046194\n",
       "3      4     11658      3267  0.218894\n",
       "4      5      6268      2057  0.247087\n",
       "5      6       617       286  0.316722"
      ],
      "text/html": [
       "<div>\n",
       "<style scoped>\n",
       "    .dataframe tbody tr th:only-of-type {\n",
       "        vertical-align: middle;\n",
       "    }\n",
       "\n",
       "    .dataframe tbody tr th {\n",
       "        vertical-align: top;\n",
       "    }\n",
       "\n",
       "    .dataframe thead th {\n",
       "        text-align: right;\n",
       "    }\n",
       "</style>\n",
       "<table border=\"1\" class=\"dataframe\">\n",
       "  <thead>\n",
       "    <tr style=\"text-align: right;\">\n",
       "      <th></th>\n",
       "      <th>GROUP</th>\n",
       "      <th>NEGATIVE</th>\n",
       "      <th>POSITIVE</th>\n",
       "      <th>RATIO</th>\n",
       "    </tr>\n",
       "  </thead>\n",
       "  <tbody>\n",
       "    <tr>\n",
       "      <th>0</th>\n",
       "      <td>1</td>\n",
       "      <td>529</td>\n",
       "      <td>99</td>\n",
       "      <td>0.157643</td>\n",
       "    </tr>\n",
       "    <tr>\n",
       "      <th>1</th>\n",
       "      <td>2</td>\n",
       "      <td>4612</td>\n",
       "      <td>286</td>\n",
       "      <td>0.058391</td>\n",
       "    </tr>\n",
       "    <tr>\n",
       "      <th>2</th>\n",
       "      <td>3</td>\n",
       "      <td>8858</td>\n",
       "      <td>429</td>\n",
       "      <td>0.046194</td>\n",
       "    </tr>\n",
       "    <tr>\n",
       "      <th>3</th>\n",
       "      <td>4</td>\n",
       "      <td>11658</td>\n",
       "      <td>3267</td>\n",
       "      <td>0.218894</td>\n",
       "    </tr>\n",
       "    <tr>\n",
       "      <th>4</th>\n",
       "      <td>5</td>\n",
       "      <td>6268</td>\n",
       "      <td>2057</td>\n",
       "      <td>0.247087</td>\n",
       "    </tr>\n",
       "    <tr>\n",
       "      <th>5</th>\n",
       "      <td>6</td>\n",
       "      <td>617</td>\n",
       "      <td>286</td>\n",
       "      <td>0.316722</td>\n",
       "    </tr>\n",
       "  </tbody>\n",
       "</table>\n",
       "</div>"
      ]
     },
     "execution_count": 8,
     "metadata": {},
     "output_type": "execute_result"
    }
   ],
   "execution_count": 8
  },
  {
   "metadata": {
    "ExecuteTime": {
     "end_time": "2025-04-27T11:51:41.420805Z",
     "start_time": "2025-04-27T11:51:41.146970Z"
    }
   },
   "cell_type": "code",
   "source": [
    "df = balance_by_group(df)\n",
    "df[\"GROUP\"].value_counts()"
   ],
   "id": "71aaa169a2615f87",
   "outputs": [
    {
     "data": {
      "text/plain": [
       "GROUP\n",
       "4    14925\n",
       "3    14925\n",
       "5    14925\n",
       "2    14925\n",
       "6    14925\n",
       "1    14925\n",
       "Name: count, dtype: int64"
      ]
     },
     "execution_count": 9,
     "metadata": {},
     "output_type": "execute_result"
    }
   ],
   "execution_count": 9
  },
  {
   "metadata": {
    "ExecuteTime": {
     "end_time": "2025-04-27T11:51:41.651312Z",
     "start_time": "2025-04-27T11:51:41.424805Z"
    }
   },
   "cell_type": "code",
   "source": [
    "grouped_train_df = df.assign(COUNT=1).groupby([\"GROUP\", \"TARGET\"], as_index=False)[\"COUNT\"].sum().sort_values([\"GROUP\", \"TARGET\"])\n",
    "grouped_train_df = grouped_train_df.pivot(index=\"GROUP\", columns=\"TARGET\", values=\"COUNT\").reset_index().fillna(0)\n",
    "grouped_train_df.columns = [\"GROUP\", \"NEGATIVE\", \"POSITIVE\"]\n",
    "grouped_train_df['RATIO'] = grouped_train_df['POSITIVE'] / (grouped_train_df['POSITIVE'] + grouped_train_df['NEGATIVE'])\n",
    "grouped_train_df"
   ],
   "id": "387f08ad9c02514d",
   "outputs": [
    {
     "data": {
      "text/plain": [
       "   GROUP  NEGATIVE  POSITIVE     RATIO\n",
       "0      1     12585      2340  0.156784\n",
       "1      2     14057       868  0.058157\n",
       "2      3     14257       668  0.044757\n",
       "3      4     11658      3267  0.218894\n",
       "4      5     11188      3737  0.250385\n",
       "5      6     10215      4710  0.315578"
      ],
      "text/html": [
       "<div>\n",
       "<style scoped>\n",
       "    .dataframe tbody tr th:only-of-type {\n",
       "        vertical-align: middle;\n",
       "    }\n",
       "\n",
       "    .dataframe tbody tr th {\n",
       "        vertical-align: top;\n",
       "    }\n",
       "\n",
       "    .dataframe thead th {\n",
       "        text-align: right;\n",
       "    }\n",
       "</style>\n",
       "<table border=\"1\" class=\"dataframe\">\n",
       "  <thead>\n",
       "    <tr style=\"text-align: right;\">\n",
       "      <th></th>\n",
       "      <th>GROUP</th>\n",
       "      <th>NEGATIVE</th>\n",
       "      <th>POSITIVE</th>\n",
       "      <th>RATIO</th>\n",
       "    </tr>\n",
       "  </thead>\n",
       "  <tbody>\n",
       "    <tr>\n",
       "      <th>0</th>\n",
       "      <td>1</td>\n",
       "      <td>12585</td>\n",
       "      <td>2340</td>\n",
       "      <td>0.156784</td>\n",
       "    </tr>\n",
       "    <tr>\n",
       "      <th>1</th>\n",
       "      <td>2</td>\n",
       "      <td>14057</td>\n",
       "      <td>868</td>\n",
       "      <td>0.058157</td>\n",
       "    </tr>\n",
       "    <tr>\n",
       "      <th>2</th>\n",
       "      <td>3</td>\n",
       "      <td>14257</td>\n",
       "      <td>668</td>\n",
       "      <td>0.044757</td>\n",
       "    </tr>\n",
       "    <tr>\n",
       "      <th>3</th>\n",
       "      <td>4</td>\n",
       "      <td>11658</td>\n",
       "      <td>3267</td>\n",
       "      <td>0.218894</td>\n",
       "    </tr>\n",
       "    <tr>\n",
       "      <th>4</th>\n",
       "      <td>5</td>\n",
       "      <td>11188</td>\n",
       "      <td>3737</td>\n",
       "      <td>0.250385</td>\n",
       "    </tr>\n",
       "    <tr>\n",
       "      <th>5</th>\n",
       "      <td>6</td>\n",
       "      <td>10215</td>\n",
       "      <td>4710</td>\n",
       "      <td>0.315578</td>\n",
       "    </tr>\n",
       "  </tbody>\n",
       "</table>\n",
       "</div>"
      ]
     },
     "execution_count": 10,
     "metadata": {},
     "output_type": "execute_result"
    }
   ],
   "execution_count": 10
  },
  {
   "metadata": {
    "ExecuteTime": {
     "end_time": "2025-04-27T11:51:41.927687Z",
     "start_time": "2025-04-27T11:51:41.654315Z"
    }
   },
   "cell_type": "code",
   "source": [
    "balanced_dataset_path = \"../processed_data/train_df_balanced.feather\"\n",
    "df.to_feather(balanced_dataset_path)"
   ],
   "id": "22b65f10aee23408",
   "outputs": [],
   "execution_count": 11
  },
  {
   "metadata": {
    "ExecuteTime": {
     "end_time": "2025-04-27T11:51:42.212736Z",
     "start_time": "2025-04-27T11:51:41.929691Z"
    }
   },
   "cell_type": "code",
   "source": [
    "df = pd.read_feather(\"../processed_data/train_df.feather\")\n",
    "df = merge_groups(df)\n",
    "grouped_train_df = df.assign(COUNT=1).groupby([\"GROUP\", \"TARGET\"], as_index=False)[\"COUNT\"].sum().sort_values([\"GROUP\", \"TARGET\"])\n",
    "grouped_train_df = grouped_train_df.pivot(index=\"GROUP\", columns=\"TARGET\", values=\"COUNT\").reset_index().fillna(0)\n",
    "grouped_train_df.columns = [\"GROUP\", \"NEGATIVE\", \"POSITIVE\"]\n",
    "grouped_train_df['RATIO'] = grouped_train_df['POSITIVE'] / (grouped_train_df['POSITIVE'] + grouped_train_df['NEGATIVE'])\n",
    "grouped_train_df"
   ],
   "id": "a00965e7283302a8",
   "outputs": [
    {
     "data": {
      "text/plain": [
       "   GROUP  NEGATIVE  POSITIVE     RATIO\n",
       "0      1       529         9  0.016729\n",
       "1      2      4612        26  0.005606\n",
       "2      3      8858        39  0.004384\n",
       "3      4     11658       297  0.024843\n",
       "4      5      6268       187  0.028970\n",
       "5      6       617        26  0.040435"
      ],
      "text/html": [
       "<div>\n",
       "<style scoped>\n",
       "    .dataframe tbody tr th:only-of-type {\n",
       "        vertical-align: middle;\n",
       "    }\n",
       "\n",
       "    .dataframe tbody tr th {\n",
       "        vertical-align: top;\n",
       "    }\n",
       "\n",
       "    .dataframe thead th {\n",
       "        text-align: right;\n",
       "    }\n",
       "</style>\n",
       "<table border=\"1\" class=\"dataframe\">\n",
       "  <thead>\n",
       "    <tr style=\"text-align: right;\">\n",
       "      <th></th>\n",
       "      <th>GROUP</th>\n",
       "      <th>NEGATIVE</th>\n",
       "      <th>POSITIVE</th>\n",
       "      <th>RATIO</th>\n",
       "    </tr>\n",
       "  </thead>\n",
       "  <tbody>\n",
       "    <tr>\n",
       "      <th>0</th>\n",
       "      <td>1</td>\n",
       "      <td>529</td>\n",
       "      <td>9</td>\n",
       "      <td>0.016729</td>\n",
       "    </tr>\n",
       "    <tr>\n",
       "      <th>1</th>\n",
       "      <td>2</td>\n",
       "      <td>4612</td>\n",
       "      <td>26</td>\n",
       "      <td>0.005606</td>\n",
       "    </tr>\n",
       "    <tr>\n",
       "      <th>2</th>\n",
       "      <td>3</td>\n",
       "      <td>8858</td>\n",
       "      <td>39</td>\n",
       "      <td>0.004384</td>\n",
       "    </tr>\n",
       "    <tr>\n",
       "      <th>3</th>\n",
       "      <td>4</td>\n",
       "      <td>11658</td>\n",
       "      <td>297</td>\n",
       "      <td>0.024843</td>\n",
       "    </tr>\n",
       "    <tr>\n",
       "      <th>4</th>\n",
       "      <td>5</td>\n",
       "      <td>6268</td>\n",
       "      <td>187</td>\n",
       "      <td>0.028970</td>\n",
       "    </tr>\n",
       "    <tr>\n",
       "      <th>5</th>\n",
       "      <td>6</td>\n",
       "      <td>617</td>\n",
       "      <td>26</td>\n",
       "      <td>0.040435</td>\n",
       "    </tr>\n",
       "  </tbody>\n",
       "</table>\n",
       "</div>"
      ]
     },
     "execution_count": 12,
     "metadata": {},
     "output_type": "execute_result"
    }
   ],
   "execution_count": 12
  },
  {
   "metadata": {
    "ExecuteTime": {
     "end_time": "2025-04-27T11:51:42.520799Z",
     "start_time": "2025-04-27T11:51:42.216742Z"
    }
   },
   "cell_type": "code",
   "source": [
    "df = downsample_by_group(df)\n",
    "df[\"GROUP\"].value_counts()"
   ],
   "id": "a166c1f68242e497",
   "outputs": [
    {
     "data": {
      "text/plain": [
       "GROUP\n",
       "4    826\n",
       "5    716\n",
       "3    568\n",
       "2    555\n",
       "6    555\n",
       "1    538\n",
       "Name: count, dtype: int64"
      ]
     },
     "execution_count": 13,
     "metadata": {},
     "output_type": "execute_result"
    }
   ],
   "execution_count": 13
  },
  {
   "metadata": {
    "ExecuteTime": {
     "end_time": "2025-04-27T11:51:42.735658Z",
     "start_time": "2025-04-27T11:51:42.522799Z"
    }
   },
   "cell_type": "code",
   "source": [
    "grouped_train_df = df.assign(COUNT=1).groupby([\"GROUP\", \"TARGET\"], as_index=False)[\"COUNT\"].sum().sort_values([\"GROUP\", \"TARGET\"])\n",
    "grouped_train_df = grouped_train_df.pivot(index=\"GROUP\", columns=\"TARGET\", values=\"COUNT\").reset_index().fillna(0)\n",
    "grouped_train_df.columns = [\"GROUP\", \"NEGATIVE\", \"POSITIVE\"]\n",
    "grouped_train_df['RATIO'] = grouped_train_df['POSITIVE'] / (grouped_train_df['POSITIVE'] + grouped_train_df['NEGATIVE'])\n",
    "grouped_train_df"
   ],
   "id": "42661ff5e1f8f62a",
   "outputs": [
    {
     "data": {
      "text/plain": [
       "   GROUP  NEGATIVE  POSITIVE     RATIO\n",
       "0      1       529         9  0.016729\n",
       "1      2       529        26  0.046847\n",
       "2      3       529        39  0.068662\n",
       "3      4       529       297  0.359564\n",
       "4      5       529       187  0.261173\n",
       "5      6       529        26  0.046847"
      ],
      "text/html": [
       "<div>\n",
       "<style scoped>\n",
       "    .dataframe tbody tr th:only-of-type {\n",
       "        vertical-align: middle;\n",
       "    }\n",
       "\n",
       "    .dataframe tbody tr th {\n",
       "        vertical-align: top;\n",
       "    }\n",
       "\n",
       "    .dataframe thead th {\n",
       "        text-align: right;\n",
       "    }\n",
       "</style>\n",
       "<table border=\"1\" class=\"dataframe\">\n",
       "  <thead>\n",
       "    <tr style=\"text-align: right;\">\n",
       "      <th></th>\n",
       "      <th>GROUP</th>\n",
       "      <th>NEGATIVE</th>\n",
       "      <th>POSITIVE</th>\n",
       "      <th>RATIO</th>\n",
       "    </tr>\n",
       "  </thead>\n",
       "  <tbody>\n",
       "    <tr>\n",
       "      <th>0</th>\n",
       "      <td>1</td>\n",
       "      <td>529</td>\n",
       "      <td>9</td>\n",
       "      <td>0.016729</td>\n",
       "    </tr>\n",
       "    <tr>\n",
       "      <th>1</th>\n",
       "      <td>2</td>\n",
       "      <td>529</td>\n",
       "      <td>26</td>\n",
       "      <td>0.046847</td>\n",
       "    </tr>\n",
       "    <tr>\n",
       "      <th>2</th>\n",
       "      <td>3</td>\n",
       "      <td>529</td>\n",
       "      <td>39</td>\n",
       "      <td>0.068662</td>\n",
       "    </tr>\n",
       "    <tr>\n",
       "      <th>3</th>\n",
       "      <td>4</td>\n",
       "      <td>529</td>\n",
       "      <td>297</td>\n",
       "      <td>0.359564</td>\n",
       "    </tr>\n",
       "    <tr>\n",
       "      <th>4</th>\n",
       "      <td>5</td>\n",
       "      <td>529</td>\n",
       "      <td>187</td>\n",
       "      <td>0.261173</td>\n",
       "    </tr>\n",
       "    <tr>\n",
       "      <th>5</th>\n",
       "      <td>6</td>\n",
       "      <td>529</td>\n",
       "      <td>26</td>\n",
       "      <td>0.046847</td>\n",
       "    </tr>\n",
       "  </tbody>\n",
       "</table>\n",
       "</div>"
      ]
     },
     "execution_count": 14,
     "metadata": {},
     "output_type": "execute_result"
    }
   ],
   "execution_count": 14
  }
 ],
 "metadata": {
  "kernelspec": {
   "display_name": "Python 3",
   "language": "python",
   "name": "python3"
  },
  "language_info": {
   "codemirror_mode": {
    "name": "ipython",
    "version": 2
   },
   "file_extension": ".py",
   "mimetype": "text/x-python",
   "name": "python",
   "nbconvert_exporter": "python",
   "pygments_lexer": "ipython2",
   "version": "2.7.6"
  }
 },
 "nbformat": 4,
 "nbformat_minor": 5
}
